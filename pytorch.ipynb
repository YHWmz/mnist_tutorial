{
 "cells": [
  {
   "cell_type": "markdown",
   "metadata": {},
   "source": [
    "# Pytorch Tutorial"
   ]
  },
  {
   "cell_type": "markdown",
   "metadata": {},
   "source": [
    "Pytorch is a popular deep learning framework and it's easy to get started."
   ]
  },
  {
   "cell_type": "code",
   "execution_count": 1,
   "metadata": {},
   "outputs": [],
   "source": [
    "import torch\n",
    "import torch.nn as nn\n",
    "import torch.utils.data as data\n",
    "import torchvision\n",
    "import torchvision.transforms as transforms\n",
    "from tqdm import tqdm\n",
    "import time\n",
    "\n",
    "BATCH_SIZE = 128\n",
    "NUM_EPOCHS = 10"
   ]
  },
  {
   "cell_type": "markdown",
   "metadata": {},
   "source": [
    "First, we read the mnist data, preprocess them and encapsulate them into dataloader form."
   ]
  },
  {
   "cell_type": "code",
   "execution_count": 2,
   "metadata": {},
   "outputs": [],
   "source": [
    "# preprocessing\n",
    "normalize = transforms.Normalize(mean=[.5], std=[.5])\n",
    "transform = transforms.Compose([transforms.ToTensor(), normalize])\n",
    "\n",
    "# download and load the data\n",
    "train_dataset = torchvision.datasets.MNIST(root='./mnist/', train=True, transform=transform, download=True)\n",
    "test_dataset = torchvision.datasets.MNIST(root='./mnist/', train=False, transform=transform, download=False)\n",
    "\n",
    "# encapsulate them into dataloader form\n",
    "train_loader = data.DataLoader(train_dataset, batch_size=BATCH_SIZE, shuffle=True, drop_last=True)\n",
    "test_loader = data.DataLoader(test_dataset, batch_size=BATCH_SIZE, shuffle=False, drop_last=True)"
   ]
  },
  {
   "cell_type": "markdown",
   "metadata": {},
   "source": [
    "Then, we define the model, object function and optimizer that we use to classify."
   ]
  },
  {
   "cell_type": "code",
   "execution_count": 3,
   "metadata": {},
   "outputs": [],
   "source": [
    "class SimpleNet(nn.Module):\n",
    "# TODO:define model\n",
    "    def __init__(self):\n",
    "        super(SimpleNet,self).__init__()\n",
    "        self.sequential = nn.Sequential(\n",
    "            nn.Conv2d(1,6,kernel_size = 5, padding = 2),\n",
    "            nn.BatchNorm2d(6),\n",
    "            nn.ReLU(),\n",
    "            nn.MaxPool2d(2 ,stride = 2),\n",
    "            nn.Conv2d(6,16,kernel_size = 5),\n",
    "            nn.BatchNorm2d(16),\n",
    "            nn.ReLU(),\n",
    "            nn.MaxPool2d(2 ,stride = 2),\n",
    "        )\n",
    "        self.fc1 = nn.Linear(16*5*5, 120)\n",
    "        self.fc2 = nn.Linear(120, 84)\n",
    "        self.fc3 = nn.Linear(84, 10)\n",
    "        self.cl = nn.Softmax(dim=1)\n",
    "    \n",
    "    def forward(self, data):\n",
    "        out = self.sequential(data)\n",
    "        out = out.view(out.shape[0],-1)\n",
    "        out = self.fc1(out)\n",
    "        out = self.fc2(out)\n",
    "        out = self.fc3(out)\n",
    "        out = self.cl(out)\n",
    "        return out\n",
    "\n",
    "    \n",
    "model = SimpleNet()\n",
    "\n",
    "# TODO:define loss function and optimiter\n",
    "criterion = nn.CrossEntropyLoss()\n",
    "optimizer = torch.optim.Adam(model.parameters(),lr = 0.001)"
   ]
  },
  {
   "cell_type": "markdown",
   "metadata": {},
   "source": [
    "Next, we can start to train and evaluate!"
   ]
  },
  {
   "cell_type": "code",
   "execution_count": 4,
   "metadata": {
    "scrolled": true
   },
   "outputs": [
    {
     "name": "stderr",
     "output_type": "stream",
     "text": [
      "100%|██████████| 468/468 [00:24<00:00, 18.72it/s]\n",
      "100%|██████████| 468/468 [00:24<00:00, 18.99it/s]\n",
      "100%|██████████| 468/468 [00:24<00:00, 19.17it/s]\n",
      "100%|██████████| 468/468 [00:24<00:00, 18.94it/s]\n",
      "100%|██████████| 468/468 [00:24<00:00, 19.06it/s]\n",
      "100%|██████████| 468/468 [00:24<00:00, 19.02it/s]\n",
      "100%|██████████| 468/468 [00:25<00:00, 18.42it/s]\n",
      "100%|██████████| 468/468 [00:25<00:00, 18.32it/s]\n",
      "100%|██████████| 468/468 [00:25<00:00, 18.59it/s]\n",
      "100%|██████████| 468/468 [00:26<00:00, 17.75it/s]\n",
      "100%|██████████| 468/468 [00:17<00:00, 26.88it/s]\n",
      "100%|██████████| 78/78 [00:02<00:00, 27.45it/s]\n"
     ]
    }
   ],
   "source": [
    "import numpy as np\n",
    "# train and evaluate\n",
    "device = torch.device(\"cuda:0\" if torch.cuda.is_available() else \"cpu\")\n",
    "torch.cuda.empty_cache()\n",
    "\n",
    "for epoch in range(NUM_EPOCHS):\n",
    "    for images, labels in tqdm(train_loader):\n",
    "        # TODO:forward + backward + optimize\n",
    "        images.to(device)\n",
    "        labels.to(device)\n",
    "        optimizer.zero_grad()\n",
    "        outputs = model.forward(images)\n",
    "        loss = criterion(outputs,labels)\n",
    "        loss.backward()\n",
    "        optimizer.step()\n",
    "        \n",
    "# evaluate\n",
    "train_acc = 0\n",
    "test_acc = 0\n",
    "count = 0\n",
    "# TODO:calculate the accuracy using traning and testing dataset\n",
    "torch.no_grad()\n",
    "for images, labels in tqdm(train_loader):\n",
    "    count = count + 1\n",
    "    images.to(device)\n",
    "    outputs = model.forward(images).detach().cpu().numpy()\n",
    "    prediction = np.argmax(outputs, axis=1)\n",
    "    labels = labels.detach().cpu().numpy()\n",
    "    train_acc += np.mean(prediction==labels)\n",
    "train_acc = train_acc/count\n",
    "\n",
    "count = 0\n",
    "torch.no_grad()\n",
    "for images, labels in tqdm(test_loader):\n",
    "    count = count + 1\n",
    "    images.to(device)\n",
    "    outputs = model.forward(images).detach().cpu().numpy()\n",
    "    labels = labels.detach().cpu().numpy()\n",
    "    prediction = np.argmax(outputs, axis=1)\n",
    "    test_acc += np.mean(prediction==labels)\n",
    "test_acc = test_acc/count\n",
    "    \n"
   ]
  },
  {
   "cell_type": "markdown",
   "metadata": {},
   "source": [
    "#### Q5:\n",
    "\n",
    "Please print the training and testing accuracy."
   ]
  },
  {
   "cell_type": "code",
   "execution_count": 5,
   "metadata": {
    "scrolled": true
   },
   "outputs": [
    {
     "name": "stdout",
     "output_type": "stream",
     "text": [
      "Training accuracy: 98.49%\n",
      "Testing accuracy: 98.53%\n"
     ]
    }
   ],
   "source": [
    "print('Training accuracy: %0.2f%%' % (train_acc*100))\n",
    "print('Testing accuracy: %0.2f%%' % (test_acc*100))"
   ]
  }
 ],
 "metadata": {
  "kernelspec": {
   "display_name": "Python 3",
   "language": "python",
   "name": "python3"
  },
  "language_info": {
   "codemirror_mode": {
    "name": "ipython",
    "version": 3
   },
   "file_extension": ".py",
   "mimetype": "text/x-python",
   "name": "python",
   "nbconvert_exporter": "python",
   "pygments_lexer": "ipython3",
   "version": "3.7.6"
  },
  "toc": {
   "base_numbering": 1,
   "nav_menu": {},
   "number_sections": true,
   "sideBar": true,
   "skip_h1_title": false,
   "title_cell": "Table of Contents",
   "title_sidebar": "Contents",
   "toc_cell": false,
   "toc_position": {},
   "toc_section_display": true,
   "toc_window_display": false
  }
 },
 "nbformat": 4,
 "nbformat_minor": 2
}
